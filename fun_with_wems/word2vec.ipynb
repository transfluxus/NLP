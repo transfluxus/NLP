{
 "cells": [
  {
   "cell_type": "markdown",
   "metadata": {},
   "source": [
    "### Fun with Word Embeddings\n",
    "__First we need to import all necessary modules. If you see a number in the box on the left after running the cell you are good to go!\n",
    "We're using gensim's word2vec implementation. [Documentation here!](https://radimrehurek.com/gensim/models/word2vec.html)__\n",
    "\n",
    "What's the purpose: What are they good for!\n",
    "\n",
    "__Natural Language Processing__\n",
    "![wiki is up-todate](https://upload.wikimedia.org/wikipedia/commons/8/8b/Automated_online_assistant.png)\n",
    "\n",
    "- Syntactical Analysis: Part-of-speech tagging, Parsing\n",
    "- Semantics: __Lexical semantics__, Machine translation, Named Entity Recognition, Natural language generation, Natural language understanding, Question answering, Sentiment analysis, Topic segmentation and recognition, Automatic summarization, \n",
    "- Sarcasm detection, Emoji2Vec\n",
    "- Recent trend: Use a word embedding and your system is gonna work better!\n",
    "\n",
    "- So where is the fun? ..."
   ]
  },
  {
   "cell_type": "markdown",
   "metadata": {},
   "source": [
    "This is a Jupyter Notebook\n",
    "Next to Jupyter you also need a few other python modules.\n",
    "Get them with pip:\n",
    "\n",
    "`pip install jupyter gensim matplotlib scikit-learn bokeh`\n",
    "\n",
    "Download [this notebook](https://transfluxus.github.io/NLP/fun_with_wems/word2vec.ipynb) and use the terminal to go to its directory. Then start Jupyter with\n",
    "`jupyter notebook`\n",
    "And open this notebook...\n",
    "\n",
    "The next part will import all necessary libraries."
   ]
  },
  {
   "cell_type": "code",
   "execution_count": 2,
   "metadata": {},
   "outputs": [],
   "source": [
    "import gensim.downloader as api\n",
    "from gensim.models import KeyedVectors\n",
    "from sklearn.manifold import TSNE\n",
    "import numpy as np\n",
    "import matplotlib.pyplot as plt\n",
    "from scipy.spatial.distance import cosine\n",
    "%matplotlib inline"
   ]
  },
  {
   "cell_type": "markdown",
   "metadata": {},
   "source": [
    "__Now we can download a Word Embedding and load it/ or just load it from this folder.__\n",
    "\n",
    "If you want other Word Embeddings:\n",
    "- [Facebook research released a library for Multilingual Unsupervised or Supervised word Embeddings](https://github.com/facebookresearch/MUSE)\n",
    "- [More models you can download staight with in the following cell](https://github.com/RaRe-Technologies/gensim-data)\n",
    "- [Popular: GloVe](https://nlp.stanford.edu/projects/glove/)\n",
    "- [Google's Word2Vec](https://code.google.com/archive/p/word2vec/)\n",
    "- [ConceptNet5: Another guy, who says he has the best word embedding](https://github.com/commonsense/conceptnet-numberbatch)\n",
    "- [HistWords: Word Embeddings for Historical Text](https://nlp.stanford.edu/projects/histwords/)\n",
    "- [Spanish Billion Word Corpus and Embeddings](http://crscardellino.me/SBWCE/)"
   ]
  },
  {
   "cell_type": "code",
   "execution_count": 13,
   "metadata": {},
   "outputs": [
    {
     "name": "stdout",
     "output_type": "stream",
     "text": [
      "/home/ra/gensim-data/glove-wiki-gigaword-200/glove-wiki-gigaword-200.gz\n"
     ]
    }
   ],
   "source": [
    "# download the model file if it is not downloaded yet! \n",
    "model_file = api.load(\"glove-wiki-gigaword-200\", return_path=True)\n",
    "print(model_file)"
   ]
  },
  {
   "cell_type": "code",
   "execution_count": 14,
   "metadata": {},
   "outputs": [],
   "source": [
    "#model_file = \"/media/ra/hd2/data/data/models/GoogleNews-vectors-negative3002.bin.gz\""
   ]
  },
  {
   "cell_type": "markdown",
   "metadata": {},
   "source": [
    "Load the model fil into the memory. This might take 1-2 minutes"
   ]
  },
  {
   "cell_type": "code",
   "execution_count": null,
   "metadata": {},
   "outputs": [],
   "source": [
    "model = KeyedVectors.load_word2vec_format(model_file)"
   ]
  },
  {
   "cell_type": "markdown",
   "metadata": {},
   "source": [
    "Some documentation on [_gensims_ Word2Vec module](https://radimrehurek.com/gensim/models/word2vec.html)"
   ]
  },
  {
   "cell_type": "code",
   "execution_count": null,
   "metadata": {},
   "outputs": [],
   "source": [
    "#model.similar_by_word(\"barcelona\") \n",
    "# or get more words: \n",
    "model.similar_by_word(\"Barcelona\", topn=100) "
   ]
  },
  {
   "cell_type": "markdown",
   "metadata": {},
   "source": [
    "__The famous analogy: _king_ - _man_ + _woman_ ≈ X:__"
   ]
  },
  {
   "cell_type": "code",
   "execution_count": 8,
   "metadata": {},
   "outputs": [
    {
     "ename": "MemoryError",
     "evalue": "",
     "output_type": "error",
     "traceback": [
      "\u001b[0;31m---------------------------------------------------------------------------\u001b[0m",
      "\u001b[0;31mMemoryError\u001b[0m                               Traceback (most recent call last)",
      "\u001b[0;32m<ipython-input-8-1788c8822a46>\u001b[0m in \u001b[0;36m<module>\u001b[0;34m()\u001b[0m\n\u001b[0;32m----> 1\u001b[0;31m \u001b[0mmodel\u001b[0m\u001b[0;34m.\u001b[0m\u001b[0mmost_similar_cosmul\u001b[0m\u001b[0;34m(\u001b[0m\u001b[0mpositive\u001b[0m\u001b[0;34m=\u001b[0m\u001b[0;34m[\u001b[0m\u001b[0;34m\"wine\"\u001b[0m\u001b[0;34m,\u001b[0m\u001b[0;34m\"barley\"\u001b[0m\u001b[0;34m]\u001b[0m\u001b[0;34m,\u001b[0m \u001b[0mnegative\u001b[0m\u001b[0;34m=\u001b[0m\u001b[0;34m[\u001b[0m\u001b[0;34m\"beer\"\u001b[0m\u001b[0;34m]\u001b[0m\u001b[0;34m,\u001b[0m \u001b[0mtopn\u001b[0m\u001b[0;34m=\u001b[0m\u001b[0;36m10\u001b[0m\u001b[0;34m)\u001b[0m\u001b[0;34m\u001b[0m\u001b[0m\n\u001b[0m",
      "\u001b[0;32m~/.virtualenvs/nlp/lib/python3.6/site-packages/gensim/models/keyedvectors.py\u001b[0m in \u001b[0;36mmost_similar_cosmul\u001b[0;34m(self, positive, negative, topn)\u001b[0m\n\u001b[1;32m    833\u001b[0m             \u001b[0mnegative\u001b[0m \u001b[0;34m=\u001b[0m \u001b[0;34m[\u001b[0m\u001b[0;34m]\u001b[0m\u001b[0;34m\u001b[0m\u001b[0m\n\u001b[1;32m    834\u001b[0m \u001b[0;34m\u001b[0m\u001b[0m\n\u001b[0;32m--> 835\u001b[0;31m         \u001b[0mself\u001b[0m\u001b[0;34m.\u001b[0m\u001b[0minit_sims\u001b[0m\u001b[0;34m(\u001b[0m\u001b[0;34m)\u001b[0m\u001b[0;34m\u001b[0m\u001b[0m\n\u001b[0m\u001b[1;32m    836\u001b[0m \u001b[0;34m\u001b[0m\u001b[0m\n\u001b[1;32m    837\u001b[0m         \u001b[0;32mif\u001b[0m \u001b[0misinstance\u001b[0m\u001b[0;34m(\u001b[0m\u001b[0mpositive\u001b[0m\u001b[0;34m,\u001b[0m \u001b[0mstring_types\u001b[0m\u001b[0;34m)\u001b[0m \u001b[0;32mand\u001b[0m \u001b[0;32mnot\u001b[0m \u001b[0mnegative\u001b[0m\u001b[0;34m:\u001b[0m\u001b[0;34m\u001b[0m\u001b[0m\n",
      "\u001b[0;32m~/.virtualenvs/nlp/lib/python3.6/site-packages/gensim/models/keyedvectors.py\u001b[0m in \u001b[0;36minit_sims\u001b[0;34m(self, replace)\u001b[0m\n\u001b[1;32m   1362\u001b[0m                 \u001b[0mself\u001b[0m\u001b[0;34m.\u001b[0m\u001b[0mvectors_norm\u001b[0m \u001b[0;34m=\u001b[0m \u001b[0mself\u001b[0m\u001b[0;34m.\u001b[0m\u001b[0mvectors\u001b[0m\u001b[0;34m\u001b[0m\u001b[0m\n\u001b[1;32m   1363\u001b[0m             \u001b[0;32melse\u001b[0m\u001b[0;34m:\u001b[0m\u001b[0;34m\u001b[0m\u001b[0m\n\u001b[0;32m-> 1364\u001b[0;31m                 \u001b[0mself\u001b[0m\u001b[0;34m.\u001b[0m\u001b[0mvectors_norm\u001b[0m \u001b[0;34m=\u001b[0m \u001b[0;34m(\u001b[0m\u001b[0mself\u001b[0m\u001b[0;34m.\u001b[0m\u001b[0mvectors\u001b[0m \u001b[0;34m/\u001b[0m \u001b[0msqrt\u001b[0m\u001b[0;34m(\u001b[0m\u001b[0;34m(\u001b[0m\u001b[0mself\u001b[0m\u001b[0;34m.\u001b[0m\u001b[0mvectors\u001b[0m \u001b[0;34m**\u001b[0m \u001b[0;36m2\u001b[0m\u001b[0;34m)\u001b[0m\u001b[0;34m.\u001b[0m\u001b[0msum\u001b[0m\u001b[0;34m(\u001b[0m\u001b[0;34m-\u001b[0m\u001b[0;36m1\u001b[0m\u001b[0;34m)\u001b[0m\u001b[0;34m)\u001b[0m\u001b[0;34m[\u001b[0m\u001b[0;34m...\u001b[0m\u001b[0;34m,\u001b[0m \u001b[0mnewaxis\u001b[0m\u001b[0;34m]\u001b[0m\u001b[0;34m)\u001b[0m\u001b[0;34m.\u001b[0m\u001b[0mastype\u001b[0m\u001b[0;34m(\u001b[0m\u001b[0mREAL\u001b[0m\u001b[0;34m)\u001b[0m\u001b[0;34m\u001b[0m\u001b[0m\n\u001b[0m\u001b[1;32m   1365\u001b[0m \u001b[0;34m\u001b[0m\u001b[0m\n\u001b[1;32m   1366\u001b[0m \u001b[0;34m\u001b[0m\u001b[0m\n",
      "\u001b[0;31mMemoryError\u001b[0m: "
     ]
    }
   ],
   "source": [
    "model.most_similar_cosmul(positive=[\"wine\",\"barley\"], negative=[\"beer\"], topn=10)"
   ]
  },
  {
   "cell_type": "markdown",
   "metadata": {},
   "source": [
    "The ruling man is called king. What is the ruling woman called?\n",
    "\n",
    "> king - man  = __queen__ - woman\n",
    "\n",
    "> king - man  = __X__ - woman\n",
    "\n",
    "> king - man  + woman = __X__ \n",
    "\n",
    "> `+` king, woman\n",
    "\n",
    "> `-` man\n",
    "\n",
    "----\n",
    "\n",
    "From barley I make beer. How do I make wine?\n",
    "> beer - marley = wine - X\n",
    "\n",
    "> beer - barley + X = wine\n",
    "\n",
    "> X  = wine - beer + barley\n",
    "\n",
    "Ok, ok. Why beer - marley, why not the other way around. or why not beer + marley.\n",
    "something + something else doesn't describe the relation between 2 vectors (words)\n",
    "\n",
    "![from b to a](https://upload.wikimedia.org/wikipedia/commons/thumb/5/5b/Vector_subtraction.png/320px-Vector_subtraction.png)\n",
    "\n",
    "What you substract from what doesn't matter. No matter how you put it, when you ask for something, the equation will always gonna look the same in the end:\n",
    "\n",
    "So instead of `king - man = queen - woman` we could write `man - king = woman - queen`."
   ]
  },
  {
   "cell_type": "code",
   "execution_count": 7,
   "metadata": {},
   "outputs": [
    {
     "data": {
      "text/plain": [
       "[('larger', 0.984496533870697),\n",
       " ('bigger', 0.8959908485412598),\n",
       " ('size', 0.854392945766449),\n",
       " ('huge', 0.831322193145752),\n",
       " ('significantly', 0.8214669227600098),\n",
       " ('largest', 0.8193754553794861),\n",
       " ('than', 0.8136564493179321),\n",
       " ('sized', 0.8128951787948608),\n",
       " ('less', 0.8116415143013),\n",
       " ('considerably', 0.8104233145713806)]"
      ]
     },
     "execution_count": 7,
     "metadata": {},
     "output_type": "execute_result"
    }
   ],
   "source": [
    "model.most_similar_cosmul(positive=[\"large\",\"smaller\"], negative=[\"small\"])\n",
    "# model.most_similar_cosmul(positive=[\"large\",\"small\"], negative=[\"smaller\"])\n",
    "# model.most_similar_cosmul(positive=[\"larger\",\"small\"], negative=[\"smaller\"])\n",
    "# model.most_similar_cosmul(positive=[\"merkel\",\"spain\"], negative=[\"germany\"])\n",
    "# model.most_similar_cosmul(positive=[\"berlin\",\"spain\"], negative=[\"barcelona\"])\n",
    "# model.most_similar_cosmul(positive=[\"microsoft\",\"zuckerberg\"], negative=[\"facebook\"])\n",
    "# model.most_similar_cosmul(positive=[\"spain\",\"alps\"], negative=[\"switzerland\"])\n",
    "# model.most_similar_cosmul(positive=[\"europe\",\"noodles\"], negative=[\"asia\"])\n",
    "# model.most_similar_cosmul(positive=[\"spain\",\"nietzsche\"], negative=[\"germany\"])\n",
    "# model.most_similar_cosmul(positive=[\"spain\",\"funny\"], negative=[\"germany\"])\n",
    "\n",
    "# 1.\n",
    "# model.most_similar_cosmul(positive=[\"beer\",\"apple\"], negative=[\"barley\"])\n",
    "# 2.\n",
    "# model.most_similar_cosmul(positive=[\"wine\",\"barley\"], negative=[\"beer\"])"
   ]
  },
  {
   "cell_type": "code",
   "execution_count": 8,
   "metadata": {},
   "outputs": [
    {
     "data": {
      "text/plain": [
       "[('charming', 0.8638376593589783),\n",
       " ('irreverent', 0.8598102331161499),\n",
       " ('cide', 0.8541579246520996),\n",
       " ('humor', 0.8449431657791138),\n",
       " ('wonderfully', 0.8356435894966125),\n",
       " ('amusing', 0.8334013223648071),\n",
       " ('quirky', 0.8278380036354065),\n",
       " ('offbeat', 0.8266856074333191),\n",
       " ('scary', 0.8240430355072021),\n",
       " ('flamenco', 0.8229984045028687)]"
      ]
     },
     "execution_count": 8,
     "metadata": {},
     "output_type": "execute_result"
    }
   ],
   "source": [
    "model.most_similar_cosmul(positive=[\"spain\",\"funny\"], negative=[\"germany\"])"
   ]
  },
  {
   "cell_type": "markdown",
   "metadata": {},
   "source": [
    "__How can we check if a word is in the model:__"
   ]
  },
  {
   "cell_type": "code",
   "execution_count": 9,
   "metadata": {
    "scrolled": true
   },
   "outputs": [
    {
     "name": "stdout",
     "output_type": "stream",
     "text": [
      "is london in the model? - jepp\n"
     ]
    }
   ],
   "source": [
    "my_word = \"london\"\n",
    "# so easy (thanks python!)\n",
    "exists_in_model = my_word in model\n",
    "print(\"is %s in the model? - %s\" % (my_word, \"jepp\" if exists_in_model else 'nope')) "
   ]
  },
  {
   "cell_type": "markdown",
   "metadata": {},
   "source": [
    "__Which word doesn't fit?__"
   ]
  },
  {
   "cell_type": "code",
   "execution_count": 10,
   "metadata": {},
   "outputs": [
    {
     "name": "stderr",
     "output_type": "stream",
     "text": [
      "/home/ra/.virtualenvs/nlp/lib/python3.6/site-packages/gensim/matutils.py:737: FutureWarning: Conversion of the second argument of issubdtype from `int` to `np.signedinteger` is deprecated. In future, it will be treated as `np.int64 == np.dtype(int).type`.\n",
      "  if np.issubdtype(vec.dtype, np.int):\n"
     ]
    },
    {
     "data": {
      "text/plain": [
       "'england'"
      ]
     },
     "execution_count": 10,
     "metadata": {},
     "output_type": "execute_result"
    }
   ],
   "source": [
    "model.doesnt_match(\"barcelona madrid england berlin\".split())"
   ]
  },
  {
   "cell_type": "markdown",
   "metadata": {},
   "source": [
    "__If you just like to look at numbers: How similar are these 2.__ \n",
    "\n",
    "__1: Very similar__\n",
    "    \n",
    "__0: Not similar at all__"
   ]
  },
  {
   "cell_type": "code",
   "execution_count": 11,
   "metadata": {},
   "outputs": [
    {
     "name": "stderr",
     "output_type": "stream",
     "text": [
      "/home/ra/.virtualenvs/nlp/lib/python3.6/site-packages/gensim/matutils.py:737: FutureWarning: Conversion of the second argument of issubdtype from `int` to `np.signedinteger` is deprecated. In future, it will be treated as `np.int64 == np.dtype(int).type`.\n",
      "  if np.issubdtype(vec.dtype, np.int):\n"
     ]
    },
    {
     "data": {
      "text/plain": [
       "0.75200856"
      ]
     },
     "execution_count": 11,
     "metadata": {},
     "output_type": "execute_result"
    }
   ],
   "source": [
    "model.similarity('woman', 'man')"
   ]
  },
  {
   "cell_type": "markdown",
   "metadata": {},
   "source": [
    "__What fits best to Barcelona? city, england or pizza?__"
   ]
  },
  {
   "cell_type": "code",
   "execution_count": 12,
   "metadata": {},
   "outputs": [
    {
     "name": "stderr",
     "output_type": "stream",
     "text": [
      "/home/ra/.virtualenvs/nlp/lib/python3.6/site-packages/gensim/matutils.py:737: FutureWarning: Conversion of the second argument of issubdtype from `int` to `np.signedinteger` is deprecated. In future, it will be treated as `np.int64 == np.dtype(int).type`.\n",
      "  if np.issubdtype(vec.dtype, np.int):\n"
     ]
    },
    {
     "data": {
      "text/plain": [
       "'berlin'"
      ]
     },
     "execution_count": 12,
     "metadata": {},
     "output_type": "execute_result"
    }
   ],
   "source": [
    "model.most_similar_to_given(\"barcelona\",[\"dog\",\"england\",\"pizza\",\"berlin\"])"
   ]
  },
  {
   "cell_type": "markdown",
   "metadata": {},
   "source": [
    "__What's closer to Barcelona then messi???__"
   ]
  },
  {
   "cell_type": "code",
   "execution_count": 13,
   "metadata": {},
   "outputs": [
    {
     "data": {
      "text/plain": [
       "['madrid',\n",
       " 'milan',\n",
       " 'fc',\n",
       " 'bayern',\n",
       " 'valencia',\n",
       " 'marseille',\n",
       " 'porto',\n",
       " 'atletico',\n",
       " 'ajax',\n",
       " 'deportivo',\n",
       " 'sevilla',\n",
       " 'bilbao',\n",
       " 'villarreal',\n",
       " 'mallorca',\n",
       " 'zaragoza',\n",
       " 'espanyol',\n",
       " 'eindhoven',\n",
       " 'barca']"
      ]
     },
     "execution_count": 13,
     "metadata": {},
     "output_type": "execute_result"
    }
   ],
   "source": [
    "model.words_closer_than(\"barcelona\",\"messi\")"
   ]
  },
  {
   "cell_type": "markdown",
   "metadata": {},
   "source": [
    "__How many words are more similar to barcelona than 'catalonia'__?"
   ]
  },
  {
   "cell_type": "code",
   "execution_count": 14,
   "metadata": {},
   "outputs": [
    {
     "data": {
      "text/plain": [
       "53"
      ]
     },
     "execution_count": 14,
     "metadata": {},
     "output_type": "execute_result"
    }
   ],
   "source": [
    "model.rank(\"barcelona\",\"catalonia\")\n",
    "# this is like:\n",
    "# len(model.words_closer_than(\"barcelona\",\"catalonia\")) + 1"
   ]
  },
  {
   "cell_type": "markdown",
   "metadata": {},
   "source": [
    "__Let's do something more complex now. Let's get the 100 most similar (`topn` in the code) words to barcelona.\n",
    "Then we smash them from their 'k' dimensions down to 2. Then we plot them__"
   ]
  },
  {
   "cell_type": "code",
   "execution_count": 15,
   "metadata": {},
   "outputs": [
    {
     "name": "stdout",
     "output_type": "stream",
     "text": [
      "most similar: ('madrid', 0.8806903958320618)\n",
      "10 most similar words: ['barcelona', 'madrid', 'valencia', 'barca', 'sevilla', 'villarreal', 'porto', 'zaragoza', 'deportivo', 'eindhoven']\n",
      "Every vector has 200 values... it looks like this:\n",
      " [-4.7312e-01  2.0956e-01 -1.0924e+00 -5.4544e-02  7.3559e-01 -1.4950e-01\n",
      "  2.8401e-01 -2.1766e-01  1.0815e+00  3.2619e-01 -7.3391e-01  3.3008e-01\n",
      " -1.2081e-01  1.0106e+00  3.5990e-01 -1.1592e-01  9.3493e-01  4.7742e-01\n",
      " -2.7512e-01 -8.5453e-01  7.2421e-01  1.4244e+00 -1.3408e-01 -1.7042e-01\n",
      "  3.9561e-01 -1.8588e-01  2.2819e-01 -1.0597e-01  5.1192e-02  1.9851e-01\n",
      "  3.0899e-03 -2.9029e-01 -5.7028e-01 -3.4764e-01 -2.6859e-01 -2.5920e-01\n",
      " -6.5688e-01  4.7606e-02  4.2148e-01 -2.8160e-01 -3.6037e-01 -3.3847e-01\n",
      "  1.8201e-01  2.4157e-01  1.2639e-01  4.3211e-01 -8.2687e-02  1.8257e-01\n",
      " -4.3537e-01  4.8175e-02 -3.9762e-02 -6.1704e-01  3.9972e-01  9.4107e-01\n",
      "  2.8909e-01 -3.6952e-01  6.4810e-02 -6.1562e-01  4.2312e-01  6.9902e-01\n",
      "  3.6696e-03 -6.8114e-01  2.1200e-01  1.5409e-01 -3.6450e-01  4.7874e-01\n",
      " -4.8829e-01 -3.2715e-01  9.5397e-01  6.3510e-02 -8.6923e-01 -9.2690e-02\n",
      " -2.2346e-01  7.9241e-01 -2.9456e-01  5.7792e-02 -2.4801e-01 -1.0684e-01\n",
      "  5.1131e-01 -6.5995e-01 -3.4040e-01  2.1046e-01  4.0270e-01  6.4399e-02\n",
      " -2.5719e-01  8.0942e-01  6.5541e-01 -6.2805e-02 -6.8139e-01 -5.5627e-01\n",
      "  2.1236e-01 -1.4310e-01 -4.2768e-02 -1.8671e-01 -4.1758e-01 -4.1218e-02\n",
      " -3.1440e-01  3.6086e-01 -2.7409e-01 -3.3639e-01 -5.1737e-01 -2.5609e-01\n",
      " -6.1953e-01  3.9082e-01  1.1031e-01 -5.2977e-01 -1.4973e-01  1.5763e+00\n",
      " -1.5747e-01  5.3830e-01 -3.1177e-02  1.1810e-01 -2.1607e-01  1.3878e-01\n",
      " -2.2435e-01  2.2206e-02  4.0207e-02  2.1153e-01  7.4586e-01  7.4852e-01\n",
      " -1.3803e+00  4.7128e-01  2.6273e-01  1.2623e-01 -3.3850e-01 -4.7036e-01\n",
      " -8.2047e-01 -4.2346e-01 -1.7069e-02 -2.9435e-01 -6.2221e-01 -1.4942e-01\n",
      "  2.1848e-01  2.4440e-01 -6.7179e-01  5.0892e-01 -6.5749e-01 -1.3626e-01\n",
      " -9.0906e-01  5.1720e-03  1.4226e-02 -5.1653e-01 -1.3324e-01 -2.0351e-01\n",
      " -5.9176e-02  1.4858e-01  9.6759e-02 -3.5496e-02 -5.8987e-02  2.1263e-01\n",
      "  2.0383e-01 -4.3280e-01  5.7221e-01 -1.0844e+00 -5.9817e-01 -7.0554e-01\n",
      "  3.3361e-01 -1.1750e+00  6.4066e-02 -4.3469e-01 -1.3423e-01 -7.0748e-01\n",
      " -5.5477e-01  9.8924e-01  8.8829e-01  5.6300e-01  1.7200e-02  3.8985e-01\n",
      " -4.8966e-01  1.9044e-01 -6.7315e-01 -6.1952e-01  3.5488e-01  5.2894e-01\n",
      "  4.8861e-01  9.6459e-01 -6.0530e-01  3.2695e-02  9.0469e-02 -5.3382e-01\n",
      "  3.0808e-01 -3.0624e-01 -4.2493e-01  5.2197e-01  1.5376e-01 -1.6218e-01\n",
      "  5.1741e-01 -9.1006e-02 -3.1358e-01  7.4103e-01 -1.1043e-04  5.2327e-01\n",
      " -6.4910e-01 -5.4977e-01  2.1676e-01  3.7077e-01  3.6760e-01 -1.5701e-01\n",
      "  3.6242e-01 -3.0388e-01]\n"
     ]
    }
   ],
   "source": [
    "# get the 100 most similar words\n",
    "bcn_sims = model.most_similar_cosmul(positive=[\"barcelona\"], topn=100)\n",
    "print(\"most similar:\",bcn_sims[0]) # print the most similar\n",
    "# just take the words\n",
    "bcn_sims = [\"barcelona\"] + [sim[0] for sim in bcn_sims]\n",
    "print(\"10 most similar words:\",bcn_sims[:10]) # print first 5 words\n",
    "# get the vectors of all these words\n",
    "bcn_sim_vecs = [model[sim] for sim in bcn_sims]\n",
    "print(\"Every vector has %s values... it looks like this:\\n %s\" % (len(bcn_sim_vecs[0]), bcn_sim_vecs[0]))"
   ]
  },
  {
   "cell_type": "markdown",
   "metadata": {},
   "source": [
    "__Definition of a function that draws a bunch of 2d points with labels, and colors and circlesize:\n",
    "We use 4 lists which must all have the same length. `colors` and `size` can be ommited.\n",
    "The 4 lists look like:__\n",
    "\n",
    "`data = [[x0, y0], [x1, y1], ...]`\n",
    "\n",
    "`labels = [\"barcelona\", \"something\", ...]`\n",
    "\n",
    "`colors = [0, 1, ...]` Here we just need integer numbers (for the groups of colors)\n",
    "\n",
    "`size = [100, 200, ...]`"
   ]
  },
  {
   "cell_type": "markdown",
   "metadata": {},
   "source": [
    "__t-SNE or t-Distributed Stochastic Neighbor Embedding allows us to reduce the dimensionality of a dataset. Obviously some details get losts... But it's trying to keep points close that were close to each other before the transformation__\n",
    "\n",
    "This is a nice interactive page about the tricky parts of it: https://distill.pub/2016/misread-tsne/\n",
    "\n",
    "This is documentation to the implementation we are using. It explains the parameters you can set:\n",
    "http://scikit-learn.org/stable/modules/generated/sklearn.manifold.TSNE.html\n",
    "\n",
    "the dimension of the embedded space is per default 2. that's why we don't need to specify the `n_components` parameters."
   ]
  },
  {
   "cell_type": "code",
   "execution_count": 74,
   "metadata": {},
   "outputs": [
    {
     "data": {
      "text/html": [
       "\n",
       "    <div class=\"bk-root\">\n",
       "        <a href=\"https://bokeh.pydata.org\" target=\"_blank\" class=\"bk-logo bk-logo-small bk-logo-notebook\"></a>\n",
       "        <span id=\"1869\">Loading BokehJS ...</span>\n",
       "    </div>"
      ]
     },
     "metadata": {},
     "output_type": "display_data"
    },
    {
     "data": {
      "application/javascript": [
       "\n",
       "(function(root) {\n",
       "  function now() {\n",
       "    return new Date();\n",
       "  }\n",
       "\n",
       "  var force = true;\n",
       "\n",
       "  if (typeof (root._bokeh_onload_callbacks) === \"undefined\" || force === true) {\n",
       "    root._bokeh_onload_callbacks = [];\n",
       "    root._bokeh_is_loading = undefined;\n",
       "  }\n",
       "\n",
       "  var JS_MIME_TYPE = 'application/javascript';\n",
       "  var HTML_MIME_TYPE = 'text/html';\n",
       "  var EXEC_MIME_TYPE = 'application/vnd.bokehjs_exec.v0+json';\n",
       "  var CLASS_NAME = 'output_bokeh rendered_html';\n",
       "\n",
       "  /**\n",
       "   * Render data to the DOM node\n",
       "   */\n",
       "  function render(props, node) {\n",
       "    var script = document.createElement(\"script\");\n",
       "    node.appendChild(script);\n",
       "  }\n",
       "\n",
       "  /**\n",
       "   * Handle when an output is cleared or removed\n",
       "   */\n",
       "  function handleClearOutput(event, handle) {\n",
       "    var cell = handle.cell;\n",
       "\n",
       "    var id = cell.output_area._bokeh_element_id;\n",
       "    var server_id = cell.output_area._bokeh_server_id;\n",
       "    // Clean up Bokeh references\n",
       "    if (id != null && id in Bokeh.index) {\n",
       "      Bokeh.index[id].model.document.clear();\n",
       "      delete Bokeh.index[id];\n",
       "    }\n",
       "\n",
       "    if (server_id !== undefined) {\n",
       "      // Clean up Bokeh references\n",
       "      var cmd = \"from bokeh.io.state import curstate; print(curstate().uuid_to_server['\" + server_id + \"'].get_sessions()[0].document.roots[0]._id)\";\n",
       "      cell.notebook.kernel.execute(cmd, {\n",
       "        iopub: {\n",
       "          output: function(msg) {\n",
       "            var id = msg.content.text.trim();\n",
       "            if (id in Bokeh.index) {\n",
       "              Bokeh.index[id].model.document.clear();\n",
       "              delete Bokeh.index[id];\n",
       "            }\n",
       "          }\n",
       "        }\n",
       "      });\n",
       "      // Destroy server and session\n",
       "      var cmd = \"import bokeh.io.notebook as ion; ion.destroy_server('\" + server_id + \"')\";\n",
       "      cell.notebook.kernel.execute(cmd);\n",
       "    }\n",
       "  }\n",
       "\n",
       "  /**\n",
       "   * Handle when a new output is added\n",
       "   */\n",
       "  function handleAddOutput(event, handle) {\n",
       "    var output_area = handle.output_area;\n",
       "    var output = handle.output;\n",
       "\n",
       "    // limit handleAddOutput to display_data with EXEC_MIME_TYPE content only\n",
       "    if ((output.output_type != \"display_data\") || (!output.data.hasOwnProperty(EXEC_MIME_TYPE))) {\n",
       "      return\n",
       "    }\n",
       "\n",
       "    var toinsert = output_area.element.find(\".\" + CLASS_NAME.split(' ')[0]);\n",
       "\n",
       "    if (output.metadata[EXEC_MIME_TYPE][\"id\"] !== undefined) {\n",
       "      toinsert[toinsert.length - 1].firstChild.textContent = output.data[JS_MIME_TYPE];\n",
       "      // store reference to embed id on output_area\n",
       "      output_area._bokeh_element_id = output.metadata[EXEC_MIME_TYPE][\"id\"];\n",
       "    }\n",
       "    if (output.metadata[EXEC_MIME_TYPE][\"server_id\"] !== undefined) {\n",
       "      var bk_div = document.createElement(\"div\");\n",
       "      bk_div.innerHTML = output.data[HTML_MIME_TYPE];\n",
       "      var script_attrs = bk_div.children[0].attributes;\n",
       "      for (var i = 0; i < script_attrs.length; i++) {\n",
       "        toinsert[toinsert.length - 1].firstChild.setAttribute(script_attrs[i].name, script_attrs[i].value);\n",
       "      }\n",
       "      // store reference to server id on output_area\n",
       "      output_area._bokeh_server_id = output.metadata[EXEC_MIME_TYPE][\"server_id\"];\n",
       "    }\n",
       "  }\n",
       "\n",
       "  function register_renderer(events, OutputArea) {\n",
       "\n",
       "    function append_mime(data, metadata, element) {\n",
       "      // create a DOM node to render to\n",
       "      var toinsert = this.create_output_subarea(\n",
       "        metadata,\n",
       "        CLASS_NAME,\n",
       "        EXEC_MIME_TYPE\n",
       "      );\n",
       "      this.keyboard_manager.register_events(toinsert);\n",
       "      // Render to node\n",
       "      var props = {data: data, metadata: metadata[EXEC_MIME_TYPE]};\n",
       "      render(props, toinsert[toinsert.length - 1]);\n",
       "      element.append(toinsert);\n",
       "      return toinsert\n",
       "    }\n",
       "\n",
       "    /* Handle when an output is cleared or removed */\n",
       "    events.on('clear_output.CodeCell', handleClearOutput);\n",
       "    events.on('delete.Cell', handleClearOutput);\n",
       "\n",
       "    /* Handle when a new output is added */\n",
       "    events.on('output_added.OutputArea', handleAddOutput);\n",
       "\n",
       "    /**\n",
       "     * Register the mime type and append_mime function with output_area\n",
       "     */\n",
       "    OutputArea.prototype.register_mime_type(EXEC_MIME_TYPE, append_mime, {\n",
       "      /* Is output safe? */\n",
       "      safe: true,\n",
       "      /* Index of renderer in `output_area.display_order` */\n",
       "      index: 0\n",
       "    });\n",
       "  }\n",
       "\n",
       "  // register the mime type if in Jupyter Notebook environment and previously unregistered\n",
       "  if (root.Jupyter !== undefined) {\n",
       "    var events = require('base/js/events');\n",
       "    var OutputArea = require('notebook/js/outputarea').OutputArea;\n",
       "\n",
       "    if (OutputArea.prototype.mime_types().indexOf(EXEC_MIME_TYPE) == -1) {\n",
       "      register_renderer(events, OutputArea);\n",
       "    }\n",
       "  }\n",
       "\n",
       "  \n",
       "  if (typeof (root._bokeh_timeout) === \"undefined\" || force === true) {\n",
       "    root._bokeh_timeout = Date.now() + 5000;\n",
       "    root._bokeh_failed_load = false;\n",
       "  }\n",
       "\n",
       "  var NB_LOAD_WARNING = {'data': {'text/html':\n",
       "     \"<div style='background-color: #fdd'>\\n\"+\n",
       "     \"<p>\\n\"+\n",
       "     \"BokehJS does not appear to have successfully loaded. If loading BokehJS from CDN, this \\n\"+\n",
       "     \"may be due to a slow or bad network connection. Possible fixes:\\n\"+\n",
       "     \"</p>\\n\"+\n",
       "     \"<ul>\\n\"+\n",
       "     \"<li>re-rerun `output_notebook()` to attempt to load from CDN again, or</li>\\n\"+\n",
       "     \"<li>use INLINE resources instead, as so:</li>\\n\"+\n",
       "     \"</ul>\\n\"+\n",
       "     \"<code>\\n\"+\n",
       "     \"from bokeh.resources import INLINE\\n\"+\n",
       "     \"output_notebook(resources=INLINE)\\n\"+\n",
       "     \"</code>\\n\"+\n",
       "     \"</div>\"}};\n",
       "\n",
       "  function display_loaded() {\n",
       "    var el = document.getElementById(\"1869\");\n",
       "    if (el != null) {\n",
       "      el.textContent = \"BokehJS is loading...\";\n",
       "    }\n",
       "    if (root.Bokeh !== undefined) {\n",
       "      if (el != null) {\n",
       "        el.textContent = \"BokehJS \" + root.Bokeh.version + \" successfully loaded.\";\n",
       "      }\n",
       "    } else if (Date.now() < root._bokeh_timeout) {\n",
       "      setTimeout(display_loaded, 100)\n",
       "    }\n",
       "  }\n",
       "\n",
       "\n",
       "  function run_callbacks() {\n",
       "    try {\n",
       "      root._bokeh_onload_callbacks.forEach(function(callback) { callback() });\n",
       "    }\n",
       "    finally {\n",
       "      delete root._bokeh_onload_callbacks\n",
       "    }\n",
       "    console.info(\"Bokeh: all callbacks have finished\");\n",
       "  }\n",
       "\n",
       "  function load_libs(js_urls, callback) {\n",
       "    root._bokeh_onload_callbacks.push(callback);\n",
       "    if (root._bokeh_is_loading > 0) {\n",
       "      console.log(\"Bokeh: BokehJS is being loaded, scheduling callback at\", now());\n",
       "      return null;\n",
       "    }\n",
       "    if (js_urls == null || js_urls.length === 0) {\n",
       "      run_callbacks();\n",
       "      return null;\n",
       "    }\n",
       "    console.log(\"Bokeh: BokehJS not loaded, scheduling load and callback at\", now());\n",
       "    root._bokeh_is_loading = js_urls.length;\n",
       "    for (var i = 0; i < js_urls.length; i++) {\n",
       "      var url = js_urls[i];\n",
       "      var s = document.createElement('script');\n",
       "      s.src = url;\n",
       "      s.async = false;\n",
       "      s.onreadystatechange = s.onload = function() {\n",
       "        root._bokeh_is_loading--;\n",
       "        if (root._bokeh_is_loading === 0) {\n",
       "          console.log(\"Bokeh: all BokehJS libraries loaded\");\n",
       "          run_callbacks()\n",
       "        }\n",
       "      };\n",
       "      s.onerror = function() {\n",
       "        console.warn(\"failed to load library \" + url);\n",
       "      };\n",
       "      console.log(\"Bokeh: injecting script tag for BokehJS library: \", url);\n",
       "      document.getElementsByTagName(\"head\")[0].appendChild(s);\n",
       "    }\n",
       "  };var element = document.getElementById(\"1869\");\n",
       "  if (element == null) {\n",
       "    console.log(\"Bokeh: ERROR: autoload.js configured with elementid '1869' but no matching script tag was found. \")\n",
       "    return false;\n",
       "  }\n",
       "\n",
       "  var js_urls = [\"https://cdn.pydata.org/bokeh/release/bokeh-1.0.1.min.js\", \"https://cdn.pydata.org/bokeh/release/bokeh-widgets-1.0.1.min.js\", \"https://cdn.pydata.org/bokeh/release/bokeh-tables-1.0.1.min.js\", \"https://cdn.pydata.org/bokeh/release/bokeh-gl-1.0.1.min.js\"];\n",
       "\n",
       "  var inline_js = [\n",
       "    function(Bokeh) {\n",
       "      Bokeh.set_log_level(\"info\");\n",
       "    },\n",
       "    \n",
       "    function(Bokeh) {\n",
       "      \n",
       "    },\n",
       "    function(Bokeh) {\n",
       "      console.log(\"Bokeh: injecting CSS: https://cdn.pydata.org/bokeh/release/bokeh-1.0.1.min.css\");\n",
       "      Bokeh.embed.inject_css(\"https://cdn.pydata.org/bokeh/release/bokeh-1.0.1.min.css\");\n",
       "      console.log(\"Bokeh: injecting CSS: https://cdn.pydata.org/bokeh/release/bokeh-widgets-1.0.1.min.css\");\n",
       "      Bokeh.embed.inject_css(\"https://cdn.pydata.org/bokeh/release/bokeh-widgets-1.0.1.min.css\");\n",
       "      console.log(\"Bokeh: injecting CSS: https://cdn.pydata.org/bokeh/release/bokeh-tables-1.0.1.min.css\");\n",
       "      Bokeh.embed.inject_css(\"https://cdn.pydata.org/bokeh/release/bokeh-tables-1.0.1.min.css\");\n",
       "    }\n",
       "  ];\n",
       "\n",
       "  function run_inline_js() {\n",
       "    \n",
       "    if ((root.Bokeh !== undefined) || (force === true)) {\n",
       "      for (var i = 0; i < inline_js.length; i++) {\n",
       "        inline_js[i].call(root, root.Bokeh);\n",
       "      }if (force === true) {\n",
       "        display_loaded();\n",
       "      }} else if (Date.now() < root._bokeh_timeout) {\n",
       "      setTimeout(run_inline_js, 100);\n",
       "    } else if (!root._bokeh_failed_load) {\n",
       "      console.log(\"Bokeh: BokehJS failed to load within specified timeout.\");\n",
       "      root._bokeh_failed_load = true;\n",
       "    } else if (force !== true) {\n",
       "      var cell = $(document.getElementById(\"1869\")).parents('.cell').data().cell;\n",
       "      cell.output_area.append_execute_result(NB_LOAD_WARNING)\n",
       "    }\n",
       "\n",
       "  }\n",
       "\n",
       "  if (root._bokeh_is_loading === 0) {\n",
       "    console.log(\"Bokeh: BokehJS loaded, going straight to plotting\");\n",
       "    run_inline_js();\n",
       "  } else {\n",
       "    load_libs(js_urls, function() {\n",
       "      console.log(\"Bokeh: BokehJS plotting callback run at\", now());\n",
       "      run_inline_js();\n",
       "    });\n",
       "  }\n",
       "}(window));"
      ],
      "application/vnd.bokehjs_load.v0+json": "\n(function(root) {\n  function now() {\n    return new Date();\n  }\n\n  var force = true;\n\n  if (typeof (root._bokeh_onload_callbacks) === \"undefined\" || force === true) {\n    root._bokeh_onload_callbacks = [];\n    root._bokeh_is_loading = undefined;\n  }\n\n  \n\n  \n  if (typeof (root._bokeh_timeout) === \"undefined\" || force === true) {\n    root._bokeh_timeout = Date.now() + 5000;\n    root._bokeh_failed_load = false;\n  }\n\n  var NB_LOAD_WARNING = {'data': {'text/html':\n     \"<div style='background-color: #fdd'>\\n\"+\n     \"<p>\\n\"+\n     \"BokehJS does not appear to have successfully loaded. If loading BokehJS from CDN, this \\n\"+\n     \"may be due to a slow or bad network connection. Possible fixes:\\n\"+\n     \"</p>\\n\"+\n     \"<ul>\\n\"+\n     \"<li>re-rerun `output_notebook()` to attempt to load from CDN again, or</li>\\n\"+\n     \"<li>use INLINE resources instead, as so:</li>\\n\"+\n     \"</ul>\\n\"+\n     \"<code>\\n\"+\n     \"from bokeh.resources import INLINE\\n\"+\n     \"output_notebook(resources=INLINE)\\n\"+\n     \"</code>\\n\"+\n     \"</div>\"}};\n\n  function display_loaded() {\n    var el = document.getElementById(\"1869\");\n    if (el != null) {\n      el.textContent = \"BokehJS is loading...\";\n    }\n    if (root.Bokeh !== undefined) {\n      if (el != null) {\n        el.textContent = \"BokehJS \" + root.Bokeh.version + \" successfully loaded.\";\n      }\n    } else if (Date.now() < root._bokeh_timeout) {\n      setTimeout(display_loaded, 100)\n    }\n  }\n\n\n  function run_callbacks() {\n    try {\n      root._bokeh_onload_callbacks.forEach(function(callback) { callback() });\n    }\n    finally {\n      delete root._bokeh_onload_callbacks\n    }\n    console.info(\"Bokeh: all callbacks have finished\");\n  }\n\n  function load_libs(js_urls, callback) {\n    root._bokeh_onload_callbacks.push(callback);\n    if (root._bokeh_is_loading > 0) {\n      console.log(\"Bokeh: BokehJS is being loaded, scheduling callback at\", now());\n      return null;\n    }\n    if (js_urls == null || js_urls.length === 0) {\n      run_callbacks();\n      return null;\n    }\n    console.log(\"Bokeh: BokehJS not loaded, scheduling load and callback at\", now());\n    root._bokeh_is_loading = js_urls.length;\n    for (var i = 0; i < js_urls.length; i++) {\n      var url = js_urls[i];\n      var s = document.createElement('script');\n      s.src = url;\n      s.async = false;\n      s.onreadystatechange = s.onload = function() {\n        root._bokeh_is_loading--;\n        if (root._bokeh_is_loading === 0) {\n          console.log(\"Bokeh: all BokehJS libraries loaded\");\n          run_callbacks()\n        }\n      };\n      s.onerror = function() {\n        console.warn(\"failed to load library \" + url);\n      };\n      console.log(\"Bokeh: injecting script tag for BokehJS library: \", url);\n      document.getElementsByTagName(\"head\")[0].appendChild(s);\n    }\n  };var element = document.getElementById(\"1869\");\n  if (element == null) {\n    console.log(\"Bokeh: ERROR: autoload.js configured with elementid '1869' but no matching script tag was found. \")\n    return false;\n  }\n\n  var js_urls = [\"https://cdn.pydata.org/bokeh/release/bokeh-1.0.1.min.js\", \"https://cdn.pydata.org/bokeh/release/bokeh-widgets-1.0.1.min.js\", \"https://cdn.pydata.org/bokeh/release/bokeh-tables-1.0.1.min.js\", \"https://cdn.pydata.org/bokeh/release/bokeh-gl-1.0.1.min.js\"];\n\n  var inline_js = [\n    function(Bokeh) {\n      Bokeh.set_log_level(\"info\");\n    },\n    \n    function(Bokeh) {\n      \n    },\n    function(Bokeh) {\n      console.log(\"Bokeh: injecting CSS: https://cdn.pydata.org/bokeh/release/bokeh-1.0.1.min.css\");\n      Bokeh.embed.inject_css(\"https://cdn.pydata.org/bokeh/release/bokeh-1.0.1.min.css\");\n      console.log(\"Bokeh: injecting CSS: https://cdn.pydata.org/bokeh/release/bokeh-widgets-1.0.1.min.css\");\n      Bokeh.embed.inject_css(\"https://cdn.pydata.org/bokeh/release/bokeh-widgets-1.0.1.min.css\");\n      console.log(\"Bokeh: injecting CSS: https://cdn.pydata.org/bokeh/release/bokeh-tables-1.0.1.min.css\");\n      Bokeh.embed.inject_css(\"https://cdn.pydata.org/bokeh/release/bokeh-tables-1.0.1.min.css\");\n    }\n  ];\n\n  function run_inline_js() {\n    \n    if ((root.Bokeh !== undefined) || (force === true)) {\n      for (var i = 0; i < inline_js.length; i++) {\n        inline_js[i].call(root, root.Bokeh);\n      }if (force === true) {\n        display_loaded();\n      }} else if (Date.now() < root._bokeh_timeout) {\n      setTimeout(run_inline_js, 100);\n    } else if (!root._bokeh_failed_load) {\n      console.log(\"Bokeh: BokehJS failed to load within specified timeout.\");\n      root._bokeh_failed_load = true;\n    } else if (force !== true) {\n      var cell = $(document.getElementById(\"1869\")).parents('.cell').data().cell;\n      cell.output_area.append_execute_result(NB_LOAD_WARNING)\n    }\n\n  }\n\n  if (root._bokeh_is_loading === 0) {\n    console.log(\"Bokeh: BokehJS loaded, going straight to plotting\");\n    run_inline_js();\n  } else {\n    load_libs(js_urls, function() {\n      console.log(\"Bokeh: BokehJS plotting callback run at\", now());\n      run_inline_js();\n    });\n  }\n}(window));"
     },
     "metadata": {},
     "output_type": "display_data"
    },
    {
     "data": {
      "text/html": [
       "\n",
       "\n",
       "\n",
       "\n",
       "\n",
       "\n",
       "  <div class=\"bk-root\" id=\"70d80f42-92a8-452e-aa7d-213a65ede62f\"></div>\n"
      ]
     },
     "metadata": {},
     "output_type": "display_data"
    },
    {
     "data": {
      "application/javascript": [
       "(function(root) {\n",
       "  function embed_document(root) {\n",
       "    \n",
       "  var docs_json = {\"e2254562-2ea1-4eb2-a66b-34edb036931f\":{\"roots\":{\"references\":[{\"attributes\":{\"below\":[{\"id\":\"1881\",\"type\":\"LinearAxis\"}],\"left\":[{\"id\":\"1886\",\"type\":\"LinearAxis\"}],\"plot_height\":700,\"plot_width\":1000,\"renderers\":[{\"id\":\"1881\",\"type\":\"LinearAxis\"},{\"id\":\"1885\",\"type\":\"Grid\"},{\"id\":\"1886\",\"type\":\"LinearAxis\"},{\"id\":\"1890\",\"type\":\"Grid\"},{\"id\":\"1899\",\"type\":\"BoxAnnotation\"},{\"id\":\"1910\",\"type\":\"GlyphRenderer\"},{\"id\":\"1905\",\"type\":\"LabelSet\"}],\"title\":{\"id\":\"1870\",\"type\":\"Title\"},\"toolbar\":{\"id\":\"1896\",\"type\":\"Toolbar\"},\"x_range\":{\"id\":\"1873\",\"type\":\"DataRange1d\"},\"x_scale\":{\"id\":\"1877\",\"type\":\"LinearScale\"},\"y_range\":{\"id\":\"1875\",\"type\":\"DataRange1d\"},\"y_scale\":{\"id\":\"1879\",\"type\":\"LinearScale\"}},\"id\":\"1871\",\"subtype\":\"Figure\",\"type\":\"Plot\"},{\"attributes\":{},\"id\":\"1974\",\"type\":\"UnionRenderers\"},{\"attributes\":{\"dimension\":1,\"plot\":{\"id\":\"1871\",\"subtype\":\"Figure\",\"type\":\"Plot\"},\"ticker\":{\"id\":\"1887\",\"type\":\"BasicTicker\"}},\"id\":\"1890\",\"type\":\"Grid\"},{\"attributes\":{\"align\":\"center\",\"plot\":null,\"text\":\"vocab\",\"text_font_size\":{\"value\":\"35px\"}},\"id\":\"1870\",\"type\":\"Title\"},{\"attributes\":{},\"id\":\"1975\",\"type\":\"Selection\"},{\"attributes\":{\"plot\":{\"id\":\"1871\",\"subtype\":\"Figure\",\"type\":\"Plot\"},\"source\":{\"id\":\"1904\",\"type\":\"ColumnDataSource\"},\"text\":{\"field\":\"words\"},\"x\":{\"field\":\"x\"},\"y\":{\"field\":\"y\"}},\"id\":\"1905\",\"type\":\"LabelSet\"},{\"attributes\":{\"callback\":null,\"data\":{\"colors\":[\"#1f77b4\",\"#1f77b4\",\"#1f77b4\",\"#1f77b4\",\"#1f77b4\",\"#1f77b4\",\"#1f77b4\",\"#1f77b4\",\"#1f77b4\",\"#1f77b4\",\"#1f77b4\",\"#1f77b4\",\"#1f77b4\",\"#1f77b4\",\"#1f77b4\",\"#1f77b4\",\"#1f77b4\",\"#1f77b4\",\"#1f77b4\",\"#1f77b4\",\"#1f77b4\",\"#1f77b4\",\"#1f77b4\",\"#1f77b4\",\"#1f77b4\",\"#1f77b4\",\"#1f77b4\",\"#1f77b4\",\"#1f77b4\",\"#1f77b4\",\"#1f77b4\",\"#1f77b4\",\"#1f77b4\",\"#1f77b4\",\"#1f77b4\",\"#1f77b4\",\"#1f77b4\",\"#1f77b4\",\"#1f77b4\",\"#1f77b4\",\"#1f77b4\",\"#1f77b4\",\"#1f77b4\",\"#1f77b4\",\"#1f77b4\",\"#1f77b4\",\"#1f77b4\",\"#1f77b4\",\"#1f77b4\",\"#1f77b4\",\"#1f77b4\",\"#1f77b4\",\"#1f77b4\",\"#1f77b4\",\"#1f77b4\",\"#1f77b4\",\"#1f77b4\",\"#1f77b4\",\"#1f77b4\",\"#1f77b4\",\"#1f77b4\",\"#1f77b4\",\"#1f77b4\",\"#1f77b4\",\"#1f77b4\",\"#1f77b4\",\"#1f77b4\",\"#1f77b4\",\"#1f77b4\",\"#1f77b4\",\"#1f77b4\",\"#1f77b4\",\"#1f77b4\",\"#1f77b4\",\"#1f77b4\",\"#1f77b4\",\"#1f77b4\",\"#1f77b4\",\"#1f77b4\",\"#1f77b4\",\"#1f77b4\",\"#1f77b4\",\"#1f77b4\",\"#1f77b4\",\"#1f77b4\",\"#1f77b4\",\"#1f77b4\",\"#1f77b4\",\"#1f77b4\",\"#1f77b4\",\"#1f77b4\",\"#1f77b4\",\"#1f77b4\",\"#1f77b4\",\"#1f77b4\",\"#1f77b4\",\"#1f77b4\",\"#1f77b4\",\"#1f77b4\",\"#1f77b4\",\"#1f77b4\"],\"words\":[\"barcelona\",\"madrid\",\"valencia\",\"barca\",\"sevilla\",\"villarreal\",\"porto\",\"zaragoza\",\"deportivo\",\"eindhoven\",\"bayern\",\"mallorca\",\"milan\",\"marseille\",\"fc\",\"ajax\",\"bilbao\",\"atletico\",\"espanyol\",\"messi\",\"spain\",\"coruna\",\"liverpool\",\"munich\",\"ronaldinho\",\"manchester\",\"lyon\",\"juventus\",\"psv\",\"malaga\",\"arsenal\",\"valladolid\",\"champions\",\"guardiola\",\"betis\",\"eto'o\",\"stuttgart\",\"osasuna\",\"ronaldo\",\"seville\",\"benfica\",\"monaco\",\"getafe\",\"rijkaard\",\"ac\",\"club\",\"striker\",\"chelsea\",\"midfielder\",\"dortmund\",\"lille\",\"iniesta\",\"girona\",\"catalonia\",\"catalan\",\"feyenoord\",\"inter\",\"1-0\",\"spanish\",\"panathinaikos\",\"juve\",\"aek\",\"roma\",\"2-0\",\"kluivert\",\"tenerife\",\"leverkusen\",\"tarragona\",\"rafael\",\"xavi\",\"athens\",\"vigo\",\"2-1\",\"puyol\",\"bremen\",\"celta\",\"cruyff\",\"villa\",\"schalke\",\"psg\",\"turin\",\"lisbon\",\"uefa\",\"auxerre\",\"nou\",\"draw\",\"carles\",\"nadal\",\"amsterdam\",\"bordeaux\",\"defender\",\"santander\",\"saviola\",\"liga\",\"everton\",\"hamburg\",\"werder\",\"tottenham\",\"3-1\",\"mourinho\",\"internazionale\"],\"x\":[18.2401123046875,25.44503402709961,17.61953353881836,43.834678649902344,4.757567882537842,1.7783921957015991,-7.407548427581787,15.50117015838623,-16.86610221862793,-6.583490371704102,-34.195037841796875,0.8319071531295776,13.712652206420898,-42.623531341552734,-12.074470520019531,7.7364091873168945,23.367080688476562,-8.822983741760254,3.552292585372925,34.76078796386719,-78.90785217285156,-13.725833892822266,-28.249858856201172,-35.53474426269531,27.95417022705078,-26.499799728393555,-51.896766662597656,24.510343551635742,-0.4474630355834961,10.14564037322998,-21.727462768554688,15.191139221191406,67.36234283447266,39.80542755126953,8.140810012817383,37.89774703979492,-45.819793701171875,-3.034797430038452,20.85333251953125,32.3122444152832,-14.512258529663086,-43.36994934082031,-4.943850994110107,50.00442123413086,7.664866924285889,60.30530548095703,6.134113788604736,-19.253131866455078,-1.2429955005645752,-42.93556213378906,-45.328880310058594,47.73178482055664,47.87983703613281,54.551490783691406,61.195350646972656,-1.1431838274002075,18.6488037109375,-64.26005554199219,64.86128997802734,-19.469280242919922,31.393558502197266,-13.76280689239502,28.288164138793945,-62.535221099853516,18.259389877319336,13.706027030944824,-45.25318145751953,40.23820114135742,43.88309097290039,43.44572448730469,-3.1361687183380127,27.910066604614258,-57.82249069213867,52.05475997924805,-61.533485412597656,23.754352569580078,55.86347198486328,-35.56732177734375,-52.19693374633789,-33.84528350830078,5.466155529022217,49.7084846496582,-29.145158767700195,-35.65567398071289,47.83992004394531,-53.29231643676758,58.10026168823242,49.31599807739258,60.97492599487305,-55.70064163208008,-6.026413917541504,5.269445896148682,28.119354248046875,-19.67906379699707,-38.21006774902344,-56.01473617553711,-56.244564056396484,-38.14915084838867,-69.39202880859375,24.50078010559082,17.995235443115234],\"y\":[-19.450658798217773,-21.96925926208496,-33.404170989990234,37.43193435668945,-35.83745574951172,-44.52594757080078,8.323824882507324,-46.1092529296875,-61.6436653137207,23.874086380004883,2.623879909515381,-71.71815490722656,7.562392711639404,-33.246429443359375,-1.2628931999206543,31.777536392211914,-70.19013977050781,-40.57350158691406,-59.23229217529297,68.28600311279297,13.100921630859375,-54.09122085571289,34.55314636230469,-7.418520450592041,60.572288513183594,27.243022918701172,-34.59598159790039,5.470200061798096,26.208892822265625,-66.81214141845703,45.19718551635742,-58.67250061035156,-59.32564163208008,45.56313705444336,-51.48487091064453,59.66055679321289,-11.272666931152344,-53.23052978515625,56.606998443603516,-35.71761703491211,9.998007774353027,-54.338897705078125,-63.67319869995117,44.83882141113281,11.541936874389648,-70.2896499633789,63.64774703979492,36.01970291137695,59.748619079589844,1.0066553354263306,-42.27250671386719,72.50703430175781,-47.99662399291992,-41.5933952331543,-37.389892578125,35.969139099121094,19.131591796875,49.76910400390625,-24.863971710205078,-15.412408828735352,4.932441711425781,-19.040464401245117,15.420646667480469,37.532737731933594,73.43516540527344,-76.4586410522461,9.762730598449707,-54.533905029296875,-17.99725341796875,78.44231414794922,-17.33665657043457,-59.14179229736328,44.70882797241211,88.82506561279297,2.204733371734619,-52.239227294921875,55.40327072143555,47.47670364379883,-1.0631948709487915,-32.141048431396484,-6.896402359008789,3.4583933353424072,63.88325500488281,-42.673377990722656,27.95418930053711,59.120079040527344,85.71480560302734,-13.992941856384277,6.997869491577148,-43.48681640625,65.46965789794922,-86.11392211914062,77.88671112060547,-77.26477813720703,36.97077560424805,-13.91137981414795,7.517910957336426,28.889570236206055,42.4356803894043,39.214481353759766,-2.2837555408477783]},\"selected\":{\"id\":\"1975\",\"type\":\"Selection\"},\"selection_policy\":{\"id\":\"1974\",\"type\":\"UnionRenderers\"}},\"id\":\"1904\",\"type\":\"ColumnDataSource\"},{\"attributes\":{\"active_drag\":\"auto\",\"active_inspect\":\"auto\",\"active_multi\":null,\"active_scroll\":{\"id\":\"1893\",\"type\":\"WheelZoomTool\"},\"active_tap\":\"auto\",\"tools\":[{\"id\":\"1891\",\"type\":\"PanTool\"},{\"id\":\"1892\",\"type\":\"ResetTool\"},{\"id\":\"1893\",\"type\":\"WheelZoomTool\"},{\"id\":\"1894\",\"type\":\"BoxZoomTool\"},{\"id\":\"1895\",\"type\":\"SaveTool\"}]},\"id\":\"1896\",\"type\":\"Toolbar\"},{\"attributes\":{},\"id\":\"1891\",\"type\":\"PanTool\"},{\"attributes\":{},\"id\":\"1892\",\"type\":\"ResetTool\"},{\"attributes\":{},\"id\":\"1893\",\"type\":\"WheelZoomTool\"},{\"attributes\":{\"overlay\":{\"id\":\"1899\",\"type\":\"BoxAnnotation\"}},\"id\":\"1894\",\"type\":\"BoxZoomTool\"},{\"attributes\":{\"callback\":null},\"id\":\"1873\",\"type\":\"DataRange1d\"},{\"attributes\":{},\"id\":\"1969\",\"type\":\"BasicTickFormatter\"},{\"attributes\":{},\"id\":\"1895\",\"type\":\"SaveTool\"},{\"attributes\":{\"bottom_units\":\"screen\",\"fill_alpha\":{\"value\":0.5},\"fill_color\":{\"value\":\"lightgrey\"},\"left_units\":\"screen\",\"level\":\"overlay\",\"line_alpha\":{\"value\":1.0},\"line_color\":{\"value\":\"black\"},\"line_dash\":[4,4],\"line_width\":{\"value\":2},\"plot\":null,\"render_mode\":\"css\",\"right_units\":\"screen\",\"top_units\":\"screen\"},\"id\":\"1899\",\"type\":\"BoxAnnotation\"},{\"attributes\":{\"callback\":null},\"id\":\"1875\",\"type\":\"DataRange1d\"},{\"attributes\":{},\"id\":\"1877\",\"type\":\"LinearScale\"},{\"attributes\":{\"fill_color\":{\"field\":\"colors\"},\"line_color\":{\"field\":\"colors\"},\"size\":{\"units\":\"screen\",\"value\":14},\"x\":{\"field\":\"x\"},\"y\":{\"field\":\"y\"}},\"id\":\"1908\",\"type\":\"Scatter\"},{\"attributes\":{},\"id\":\"1879\",\"type\":\"LinearScale\"},{\"attributes\":{\"fill_alpha\":{\"value\":0.1},\"fill_color\":{\"value\":\"#1f77b4\"},\"line_alpha\":{\"value\":0.1},\"line_color\":{\"value\":\"#1f77b4\"},\"size\":{\"units\":\"screen\",\"value\":14},\"x\":{\"field\":\"x\"},\"y\":{\"field\":\"y\"}},\"id\":\"1909\",\"type\":\"Scatter\"},{\"attributes\":{\"formatter\":{\"id\":\"1971\",\"type\":\"BasicTickFormatter\"},\"plot\":{\"id\":\"1871\",\"subtype\":\"Figure\",\"type\":\"Plot\"},\"ticker\":{\"id\":\"1882\",\"type\":\"BasicTicker\"}},\"id\":\"1881\",\"type\":\"LinearAxis\"},{\"attributes\":{\"data_source\":{\"id\":\"1904\",\"type\":\"ColumnDataSource\"},\"glyph\":{\"id\":\"1908\",\"type\":\"Scatter\"},\"hover_glyph\":null,\"muted_glyph\":null,\"nonselection_glyph\":{\"id\":\"1909\",\"type\":\"Scatter\"},\"selection_glyph\":null,\"view\":{\"id\":\"1911\",\"type\":\"CDSView\"}},\"id\":\"1910\",\"type\":\"GlyphRenderer\"},{\"attributes\":{},\"id\":\"1882\",\"type\":\"BasicTicker\"},{\"attributes\":{\"source\":{\"id\":\"1904\",\"type\":\"ColumnDataSource\"}},\"id\":\"1911\",\"type\":\"CDSView\"},{\"attributes\":{\"plot\":{\"id\":\"1871\",\"subtype\":\"Figure\",\"type\":\"Plot\"},\"ticker\":{\"id\":\"1882\",\"type\":\"BasicTicker\"}},\"id\":\"1885\",\"type\":\"Grid\"},{\"attributes\":{\"formatter\":{\"id\":\"1969\",\"type\":\"BasicTickFormatter\"},\"plot\":{\"id\":\"1871\",\"subtype\":\"Figure\",\"type\":\"Plot\"},\"ticker\":{\"id\":\"1887\",\"type\":\"BasicTicker\"}},\"id\":\"1886\",\"type\":\"LinearAxis\"},{\"attributes\":{},\"id\":\"1971\",\"type\":\"BasicTickFormatter\"},{\"attributes\":{},\"id\":\"1887\",\"type\":\"BasicTicker\"}],\"root_ids\":[\"1871\"]},\"title\":\"Bokeh Application\",\"version\":\"1.0.1\"}};\n",
       "  var render_items = [{\"docid\":\"e2254562-2ea1-4eb2-a66b-34edb036931f\",\"notebook_comms_target\":\"1976\",\"roots\":{\"1871\":\"70d80f42-92a8-452e-aa7d-213a65ede62f\"}}];\n",
       "  root.Bokeh.embed.embed_items_notebook(docs_json, render_items);\n",
       "\n",
       "  }\n",
       "  if (root.Bokeh !== undefined) {\n",
       "    embed_document(root);\n",
       "  } else {\n",
       "    var attempts = 0;\n",
       "    var timer = setInterval(function(root) {\n",
       "      if (root.Bokeh !== undefined) {\n",
       "        embed_document(root);\n",
       "        clearInterval(timer);\n",
       "      }\n",
       "      attempts++;\n",
       "      if (attempts > 100) {\n",
       "        console.log(\"Bokeh: ERROR: Unable to run BokehJS code because BokehJS library is missing\");\n",
       "        clearInterval(timer);\n",
       "      }\n",
       "    }, 10, root)\n",
       "  }\n",
       "})(window);"
      ],
      "application/vnd.bokehjs_exec.v0+json": ""
     },
     "metadata": {
      "application/vnd.bokehjs_exec.v0+json": {
       "id": "1871"
      }
     },
     "output_type": "display_data"
    }
   ],
   "source": [
    "from tbias.plot import word_vecs_tsne_groups\n",
    "word_vecs_tsne_groups(bcn_sims, bcn_sim_vecs)\n"
   ]
  },
  {
   "cell_type": "markdown",
   "metadata": {},
   "source": [
    "Now we want to test a bunch of words and see to which city they are most similar to.\n",
    "\n",
    "__Is pizza more similar to paris, barcelona, brussels or berlin?__\n",
    "\n",
    "We keep these words in `compare_word_list` and our cities in `compare_to`.\n",
    "\n",
    "Then we can use the `most_similar_to_given` function for each word.\n",
    "\n",
    "Then we color code it and draw it..."
   ]
  },
  {
   "cell_type": "code",
   "execution_count": 19,
   "metadata": {},
   "outputs": [
    {
     "name": "stderr",
     "output_type": "stream",
     "text": [
      "/home/ra/.virtualenvs/nlp/lib/python3.6/site-packages/gensim/matutils.py:737: FutureWarning: Conversion of the second argument of issubdtype from `int` to `np.signedinteger` is deprecated. In future, it will be treated as `np.int64 == np.dtype(int).type`.\n",
      "  if np.issubdtype(vec.dtype, np.int):\n"
     ]
    },
    {
     "name": "stdout",
     "output_type": "stream",
     "text": [
      "pizza : rome\n",
      "beer : berlin\n",
      "football : barcelona\n",
      "peace : paris\n",
      "war : berlin\n",
      "love : paris\n",
      "santos : barcelona\n",
      "beer : berlin\n",
      "döner : berlin\n",
      "sun : rome\n",
      "fish : brussels\n",
      "winter : rome\n",
      "king : rome\n",
      "germany : berlin\n",
      "tower : paris\n",
      "water : rome\n",
      "warm : barcelona\n",
      "cold : berlin\n"
     ]
    },
    {
     "data": {
      "image/png": "[encoded data removed]",
      "text/plain": [
       "<Figure size 1440x1440 with 1 Axes>"
      ]
     },
     "metadata": {},
     "output_type": "display_data"
    }
   ],
   "source": [
    "compare_word_list = [\"pizza\",\"beer\",\"football\",\"peace\",\"war\",\"love\",\n",
    "                     \"santos\",\"beer\",\"döner\",\"sun\",\"fish\",\"winter\",\"king\",\"germany\",\"tower\",\"water\",\"warm\", \"cold\"]\n",
    "\n",
    "compare_to = [\"paris\",\"barcelona\",\"brussels\",\"berlin\", \"rome\"]\n",
    "\n",
    "\n",
    "# check for every word if it exits in the model. otherwise : kick it out\n",
    "for word_list in [compare_word_list, compare_to]:\n",
    "    for ind,word in enumerate(word_list):\n",
    "        if not word in model:\n",
    "            del word_list[ind]\n",
    "            print(\"gotta kick out:\",word)\n",
    "\n",
    "# for each word save the most similar city\n",
    "most_similar = []\n",
    "for word in compare_word_list:\n",
    "    most_similar_to = model.most_similar_to_given(word,compare_to)\n",
    "    most_similar.append(most_similar_to)\n",
    "    print(word,\":\", most_similar_to)\n",
    "    \n",
    "# mix the 2 lists together: words + cities\n",
    "show_words = compare_word_list + compare_to\n",
    "# get the vectors of all words in 2d\n",
    "word_vecs_2d = TSNE().fit_transform([model[word] for word in show_words])\n",
    "# set the color_index for each most_similar and the cities by the index of the city in the list of cities\n",
    "colors = [compare_to.index(sim) for sim in most_similar] + [compare_to.index(word) for word in compare_to]\n",
    "# set the size the circles of all words to 100 and all cities to 300\n",
    "sizes = ([100] * len(compare_word_list)) + ([300] * len(compare_to))\n",
    "# plot it!\n",
    "plot(word_vecs_2d, show_words, colors, sizes)"
   ]
  },
  {
   "cell_type": "markdown",
   "metadata": {},
   "source": [
    "__In a rudimantary way, we can also get the similarity of sentences.\n",
    "We need to split a sentence into the single words and kick all so-called stopwords out: a, the, by, had, and, so...\n",
    "There is [a whole list in this file](stopwords.txt)__"
   ]
  },
  {
   "cell_type": "code",
   "execution_count": null,
   "metadata": {},
   "outputs": [],
   "source": [
    "stopwords = open('stopwords.txt').read().split('\\n')\n",
    "\n",
    "def sent_sim(sen1, sen2):\n",
    "    words1 = sen1.lower().split()\n",
    "    words1 = [w for w in words1 if w not in stopwords]\n",
    "    words2 = sen2.lower().split()\n",
    "    words2 = [w for w in words2 if w not in stopwords]\n",
    "    return model.n_similarity(words1,words2)"
   ]
  },
  {
   "cell_type": "code",
   "execution_count": null,
   "metadata": {},
   "outputs": [],
   "source": [
    "sentence1 = \"Barcelona is a sunny place\"\n",
    "sentence2 = \"Berlin in winter is a great place , not\"\n",
    "sentence3 = \"my cat garfield was chasing a mouse\"\n",
    "\n",
    "print(sent_sim(sentence1, sentence2))\n",
    "print(sent_sim(sentence1, sentence3))\n",
    "print(sent_sim(sentence2, sentence3))"
   ]
  },
  {
   "cell_type": "markdown",
   "metadata": {},
   "source": [
    "## Word Embedding Association Test"
   ]
  },
  {
   "cell_type": "code",
   "execution_count": 39,
   "metadata": {},
   "outputs": [],
   "source": [
    "from tbias.weat import WEAT\n",
    "weat = WEAT(model)"
   ]
  },
  {
   "cell_type": "code",
   "execution_count": 75,
   "metadata": {},
   "outputs": [],
   "source": [
    "X_science = set('science, technology, physics, chemistry, Einstein, NASA, experiment, astronomy'.lower().split(', '))\n",
    "Y_arts = set('poetry, art, Shakespeare, dance, literature, novel, symphony, drama'.lower().split(', '))\n",
    "attr_male = 'male, man, boy, brother, he, him, his, son'.split(', ')\n",
    "attr_female = 'female, woman, girl, sister, she, her, hers, daughter'.split(', ')"
   ]
  },
  {
   "cell_type": "code",
   "execution_count": 76,
   "metadata": {},
   "outputs": [
    {
     "name": "stderr",
     "output_type": "stream",
     "text": [
      "/home/ra/.virtualenvs/nlp/lib/python3.6/site-packages/gensim/matutils.py:737: FutureWarning: Conversion of the second argument of issubdtype from `int` to `np.signedinteger` is deprecated. In future, it will be treated as `np.int64 == np.dtype(int).type`.\n",
      "  if np.issubdtype(vec.dtype, np.int):\n"
     ]
    },
    {
     "data": {
      "text/plain": [
       "(1.327083711404196, 0.0019425019425019425)"
      ]
     },
     "execution_count": 76,
     "metadata": {},
     "output_type": "execute_result"
    }
   ],
   "source": [
    "# results 2 values effect-size and p-value\n",
    "weat.perform_test(X_science, Y_arts, attr_male, attr_female)"
   ]
  },
  {
   "cell_type": "code",
   "execution_count": 62,
   "metadata": {},
   "outputs": [],
   "source": [
    "X_science = set('weak, home'.lower().split(', '))\n",
    "Y_arts = set('string, hero'.lower().split(', '))\n",
    "attr_male = 'man'.split(', ')\n",
    "attr_female = 'woman'.split(', ')"
   ]
  },
  {
   "cell_type": "code",
   "execution_count": 63,
   "metadata": {},
   "outputs": [
    {
     "data": {
      "text/plain": [
       "(-1.435320526719049, 1.0)"
      ]
     },
     "execution_count": 63,
     "metadata": {},
     "output_type": "execute_result"
    }
   ],
   "source": [
    "weat.perform_test(X_science, Y_arts, attr_male, attr_female)"
   ]
  },
  {
   "cell_type": "markdown",
   "metadata": {},
   "source": [
    "When you perform a hypothesis test in statistics, a p-value helps you determine the significance of your results. Hypothesis tests are used to test the validity of a claim that is made about a population. This claim that’s on trial, in essence, is called the null hypothesis.\n",
    "\n",
    "The alternative hypothesis is the one you would believe if the null hypothesis is concluded to be untrue. The evidence in the trial is your data and the statistics that go along with it. All hypothesis tests ultimately use a p-value to weigh the strength of the evidence (what the data are telling you about the population). The p-value is a number between 0 and 1 and interpreted in the following way:\n",
    "\n",
    "    A small p-value (typically ≤ 0.05) indicates strong evidence against the null hypothesis, so you reject the null hypothesis.\n",
    "\n",
    "    A large p-value (> 0.05) indicates weak evidence against the null hypothesis, so you fail to reject the null hypothesis.\n",
    "\n",
    "    p-values very close to the cutoff (0.05) are considered to be marginal (could go either way). Always report the p-value so your readers can draw their own conclusions.\n"
   ]
  },
  {
   "cell_type": "code",
   "execution_count": 56,
   "metadata": {},
   "outputs": [
    {
     "name": "stdout",
     "output_type": "stream",
     "text": [
      "nurse -0.31\n",
      "stylist -0.29\n",
      "dancer -0.29\n",
      "nanny -0.25\n",
      "librarian -0.15\n",
      "pussy -0.11\n",
      "architect 0.15\n",
      "captain 0.15\n",
      "hero 0.12\n",
      "legend 0.09\n",
      "philosopher 0.12\n",
      "chef -0.17\n",
      "patron 0.04\n",
      "comic -0.03\n",
      "man 0.12\n"
     ]
    }
   ],
   "source": [
    "he_she_axis = (model['he'] - model['she']) / np.linalg.norm(model['he'] - model['she'])\n",
    "fem = ['nurse','stylist','dancer','nanny','librarian']\n",
    "masc = ['architect','captain','hero','legend','philosopher']\n",
    "neut = ['chef','patron','comic', \"man\"]\n",
    "\n",
    "for word in fem+masc+neut:\n",
    "    norm_w = model[word] / np.linalg.norm(model[word])\n",
    "    print('%s %.2f' % (word, np.dot(norm_w,he_she_axis)))"
   ]
  },
  {
   "cell_type": "markdown",
   "metadata": {},
   "source": [
    "### grab some vocabulary words"
   ]
  },
  {
   "cell_type": "code",
   "execution_count": 27,
   "metadata": {},
   "outputs": [],
   "source": [
    "words = sorted(list(model.vocab.keys()))"
   ]
  },
  {
   "cell_type": "code",
   "execution_count": 38,
   "metadata": {},
   "outputs": [
    {
     "data": {
      "text/plain": [
       "['bla',\n",
       " 'blaauw',\n",
       " 'blab',\n",
       " 'blabbed',\n",
       " 'blabber',\n",
       " 'blabbering',\n",
       " 'blabbermouth',\n",
       " 'blabbermouth.net',\n",
       " 'blabbing',\n",
       " 'blaby',\n",
       " 'blac',\n",
       " 'blacas',\n",
       " 'blacc',\n",
       " 'blace',\n",
       " 'blach',\n",
       " 'blache',\n",
       " 'blacher',\n",
       " 'blachernae',\n",
       " 'blachford',\n",
       " 'blachman',\n",
       " 'black',\n",
       " 'black-and-white',\n",
       " 'black-backed',\n",
       " 'black-bellied',\n",
       " 'black-billed',\n",
       " 'black-body',\n",
       " 'black-box',\n",
       " 'black-breasted',\n",
       " 'black-browed',\n",
       " 'black-brown',\n",
       " 'black-capped',\n",
       " 'black-chinned',\n",
       " 'black-clad',\n",
       " 'black-colored',\n",
       " 'black-crowned',\n",
       " 'black-eared',\n",
       " 'black-eyed',\n",
       " 'black-faced',\n",
       " 'black-figure',\n",
       " 'black-footed']"
      ]
     },
     "execution_count": 38,
     "metadata": {},
     "output_type": "execute_result"
    }
   ],
   "source": [
    "dog_i = words.index(\"black\")\n",
    "words[dog_i-20:dog_i+20]"
   ]
  },
  {
   "cell_type": "markdown",
   "metadata": {},
   "source": [
    "### Soooo. wanna make your own model or what?\n",
    "There is a rule for building models.\n",
    "___Garbage in garbage out___\n",
    "\n",
    "That means if you want your model to be accurate you need to clean your data (text)!\n",
    "\n",
    "What is clean text-data? It depends on your use-case.\n",
    "\n",
    "However, generally you want to remove punctuation, phone numbers, email addresses, stopwords, and maybe even normalize your words. \n",
    "What's normalization? Making them lowercase and lemmatizing.\n",
    "Some lemma examples:\n",
    "- ran ➤ run (present tense)\n",
    "- runs ➤ run\n",
    "- has ➤ have\n",
    "- are ➤ be\n",
    "- kitchnes ➤ kitchen (singular)\n",
    "- ... _pretty easy for english_\n",
    "\n",
    "How am I supposed to do that. __There was big NLP library called [NLTK](http://www.nltk.org/) but the new cool kid on the block is [SpaCy](https://spacy.io/)__. Especially [textacy](https://textacy.readthedocs.io) gets the job done! NLTK has a nice collection of corpora tho."
   ]
  },
  {
   "cell_type": "markdown",
   "metadata": {},
   "source": [
    "__Minimum:__ Specify the corpus filepath (a textfile that contains the text) and model filepath (where your model will be saved). There are some more parameters you can tune:\n",
    "```\n",
    "vector_size = 100 # memory (smaller size) vs precision (larger size)  \n",
    "min_count = 5 # throw out all words that appear less then `min_count` times\n",
    "learning_iterations = 20 # iterate over the corpus so many times\n",
    "window = 5 # The context size for each word\n",
    "workers = multiprocessing.cpu_count() # multiprocessing!!!\n",
    "```"
   ]
  },
  {
   "cell_type": "code",
   "execution_count": null,
   "metadata": {},
   "outputs": [],
   "source": [
    "from gensim.models.word2vec import Word2Vec, LineSentence\n",
    "import multiprocessing\n",
    "import os\n",
    "\n",
    "# where is your clean text file:\n",
    "corpus_path = \"corpus/corpus_clean.txt\"\n",
    "model_path = 'models/my_model.bin'\n",
    "\n",
    "vector_size = 100 # memory (smaller size) vs precision (larger size)  \n",
    "min_count = 5 # throw out all words that appear less then `min_count` times\n",
    "learning_iterations = 20 # iterate over the corpus so many times\n",
    "window = 5 # The context size for each word\n",
    "workers = multiprocessing.cpu_count() # multiprocessing!!!\n",
    "\n",
    "def build_word2vec(corpus_path, model_path, delete_temporary_files=True, binary=True):\n",
    "    model = Word2Vec(size=vector_size ,min_count=min_count, iter=learning_iterations, window=window, workers=workers)\n",
    "    if os.path.exists(corpus_path):\n",
    "        sentences = LineSentence(corpus_path)\n",
    "    else:\n",
    "        print('no file. bye')\n",
    "        return\n",
    "    print(\"building vocabulary...\")\n",
    "    model.build_vocab(sentences)\n",
    "    print(\"training model...\")\n",
    "    model.train(sentences, total_examples=model.corpus_count, epochs=model.iter)\n",
    "    # call this if you do not need to train the model again\n",
    "    if delete_temporary_files:\n",
    "        model.delete_temporary_training_data(True)\n",
    "    print(\"saving...\")\n",
    "    model.wv.save_word2vec_format(model_path, binary=binary)    \n",
    "    print(\"done\",model)\n",
    "    return model.wv\n",
    "    \n",
    "my_model = build_word2vec(corpus_path,model_path)"
   ]
  },
  {
   "cell_type": "code",
   "execution_count": null,
   "metadata": {},
   "outputs": [],
   "source": [
    "# model_path = 'models/my_model.bin'\n",
    "# my_model = KeyedVectors.load_word2vec_format(model_path)\n",
    "\n",
    "# all_words = list(my_model.vocab.keys())\n",
    "# print(all_words[1000:1100])\n",
    "print(\"Barcelon? %s\" % ('barcelona' in my_model))\n",
    "my_model.most_similar_cosmul(positive=[\"barcelona\"], negative=[])"
   ]
  },
  {
   "cell_type": "markdown",
   "metadata": {},
   "source": [
    "### More fun:\n",
    "\n",
    "[How to implement Sentiment Analysis using word embedding and Convolutional Neural Networks on Keras](https://medium.com/@thoszymkowiak/how-to-implement-sentiment-analysis-using-word-embedding-and-convolutional-neural-networks-on-keras-163197aef623)\n",
    "\n",
    "[Trends and future directions](http://ruder.io/word-embeddings-2017/)\n",
    "\n",
    "[Doc2Vec with gensim: Proper sentence similarities](https://rare-technologies.com/doc2vec-tutorial/)"
   ]
  },
  {
   "cell_type": "markdown",
   "metadata": {},
   "source": [
    "__Appendix__"
   ]
  },
  {
   "cell_type": "markdown",
   "metadata": {},
   "source": [
    "\n",
    "\n",
    "For the next part you need `textacy`: so grab it with pip: `pip install textacy`"
   ]
  },
  {
   "cell_type": "code",
   "execution_count": null,
   "metadata": {
    "scrolled": true
   },
   "outputs": [],
   "source": [
    "# cleaning the text\n",
    "from textacy.preprocess import preprocess_text\n",
    "from textacy import fileio \n",
    "\n",
    "text = fileio.read.read_file('corpus/corpus.txt',encoding='utf-8')\n",
    "\n",
    "# super_clean_text = preprocess_text(text, fix_unicode=True, \n",
    "#                 lowercase=True, transliterate=True, \n",
    "#                 no_urls=True, no_emails=True, \n",
    "#                 no_phone_numbers=True, no_numbers=False, \n",
    "#                 no_currency_symbols=True, no_punct=True, \n",
    "#                 no_contractions=True, no_accents=True)\n",
    "\n",
    "# fileio.write.write_file(super_clean_text,'corpus/corpus_super_clean.txt',encoding='utf-8')\n",
    "\n",
    "clean_text = preprocess_text(text, fix_unicode=True, \n",
    "                lowercase=True, transliterate=False, \n",
    "                no_urls=True, no_emails=True, \n",
    "                no_phone_numbers=True, no_numbers=False, \n",
    "                no_currency_symbols=False, no_punct=True, \n",
    "                no_contractions=True, no_accents=False)\n",
    "\n",
    "fileio.write.write_file(clean_text,'corpus/corpus_clean.txt',encoding='utf-8')"
   ]
  }
 ],
 "metadata": {
  "kernelspec": {
   "display_name": "Python 3",
   "language": "python",
   "name": "python3"
  },
  "language_info": {
   "codemirror_mode": {
    "name": "ipython",
    "version": 3
   },
   "file_extension": ".py",
   "mimetype": "text/x-python",
   "name": "python",
   "nbconvert_exporter": "python",
   "pygments_lexer": "ipython3",
   "version": "3.6.5"
  }
 },
 "nbformat": 4,
 "nbformat_minor": 2
}
